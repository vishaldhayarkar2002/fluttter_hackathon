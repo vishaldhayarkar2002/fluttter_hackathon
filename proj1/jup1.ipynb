{
 "cells": [
  {
   "cell_type": "code",
   "execution_count": 5,
   "metadata": {},
   "outputs": [],
   "source": [
    "from PIL import Image\n",
    "import numpy as np\n",
    "# load the X-ray image\n",
    "xray_img = Image.open('xray.jpg')\n",
    "\n",
    "# resize the image to a fixed size\n",
    "img_size = (224, 224)\n",
    "xray_img = xray_img.resize(img_size)\n",
    "\n",
    "# convert the image to a numpy array\n",
    "xray_array = np.array(xray_img)\n",
    "\n",
    "# normalize the pixel values\n",
    "xray_array = xray_array.astype('float32') / 255.0\n",
    "\n",
    "# add a batch dimension to the array\n",
    "xray_array = np.expand_dims(xray_array, axis=0)\n"
   ]
  },
  {
   "cell_type": "code",
   "execution_count": 8,
   "metadata": {},
   "outputs": [],
   "source": [
    "# load a pre-trained CNN model (e.g. VGG16)\n",
    "from tensorflow.keras.applications.vgg16 import VGG16\n",
    "import tensorflow as tf\n",
    "num_classes = 2\n",
    "# create the model with the pre-trained weights\n",
    "base_model = VGG16(weights='imagenet', include_top=False)\n",
    "\n",
    "# add a few more layers to the model\n",
    "x = base_model.output\n",
    "x = tf.keras.layers.GlobalAveragePooling2D()(x)\n",
    "x = tf.keras.layers.Dense(512, activation='relu')(x)\n",
    "predictions = tf.keras.layers.Dense(num_classes, activation='softmax')(x)\n",
    "model = tf.keras.models.Model(inputs=base_model.input, outputs=predictions)\n"
   ]
  },
  {
   "cell_type": "code",
   "execution_count": 10,
   "metadata": {},
   "outputs": [
    {
     "name": "stdout",
     "output_type": "stream",
     "text": [
      "Found 0 images belonging to 2 classes.\n",
      "Found 0 images belonging to 2 classes.\n"
     ]
    }
   ],
   "source": [
    "from tensorflow.keras.preprocessing.image import ImageDataGenerator\n",
    "\n",
    "# define your dataset paths\n",
    "train_dir = \"path/to/training/data\"\n",
    "val_dir = \"path/to/validation/data\"\n",
    "\n",
    "# define image size, batch size, and number of classes\n",
    "img_size = (224, 224)\n",
    "batch_size = 32\n",
    "num_classes = 2\n",
    "\n",
    "# create data generators for training and validation\n",
    "train_datagen = ImageDataGenerator(rescale=1./255, \n",
    "                                   shear_range=0.2, \n",
    "                                   zoom_range=0.2, \n",
    "                                   horizontal_flip=True)\n",
    "val_datagen = ImageDataGenerator(rescale=1./255)\n",
    "\n",
    "train_data = train_datagen.flow_from_directory(train_dir, \n",
    "                                               target_size=img_size, \n",
    "                                               batch_size=batch_size,\n",
    "                                               class_mode='categorical',\n",
    "                                               classes=['normal', 'abnormal'])\n",
    "\n",
    "val_data = val_datagen.flow_from_directory(val_dir, \n",
    "                                           target_size=img_size, \n",
    "                                           batch_size=batch_size,\n",
    "                                           class_mode='categorical',\n",
    "                                           classes=['normal', 'abnormal'])\n"
   ]
  }
 ],
 "metadata": {
  "kernelspec": {
   "display_name": "Python 3",
   "language": "python",
   "name": "python3"
  },
  "language_info": {
   "codemirror_mode": {
    "name": "ipython",
    "version": 3
   },
   "file_extension": ".py",
   "mimetype": "text/x-python",
   "name": "python",
   "nbconvert_exporter": "python",
   "pygments_lexer": "ipython3",
   "version": "3.11.1"
  },
  "orig_nbformat": 4,
  "vscode": {
   "interpreter": {
    "hash": "864ca97206c059a1fb89719c105475b5835b5a97add7c4602b4a8e193b5f85b0"
   }
  }
 },
 "nbformat": 4,
 "nbformat_minor": 2
}
